{
 "cells": [
  {
   "cell_type": "code",
   "execution_count": null,
   "metadata": {
    "collapsed": true
   },
   "outputs": [],
   "source": [
    "# 导入对应的 package\n",
    "import numpy as np\n",
    "import pandas as pd\n",
    "import requests\n",
    "import bs4\n",
    "import time\n",
    "import json\n",
    "import matplotlib\n",
    "import matplotlib.pyplot as plt\n",
    "%matplotlib inline"
   ]
  },
  {
   "cell_type": "code",
   "execution_count": null,
   "metadata": {
    "collapsed": true
   },
   "outputs": [],
   "source": [
    "font_hei = matplotlib.font_manager.FontProperties(\n",
    "    fname=r\"SimHei.ttf\", size=15)  # 设置中文字体"
   ]
  },
  {
   "cell_type": "code",
   "execution_count": null,
   "metadata": {
    "collapsed": true
   },
   "outputs": [],
   "source": [
    "def get_data(base_url, page):\n",
    "    \"\"\"\n",
    "    获取B站单个页面的视频信息\n",
    "    base_url: json的api\n",
    "    page: 页数\n",
    "    return 一个二维的list,16列\n",
    "    \"\"\"\n",
    "    url = base_url.format(str(page))  # 得到对应的url\n",
    "    response = requests.get(url, headers=header)  # 发出请求，获取回应\n",
    "    videos = pd.read_json(response.text[37:-1]).iloc[:, 3].iloc[0]  # 获取列表\n",
    "    videos_list = []  # 用来储存数据\n",
    "    for video in videos:  # 循环每个番剧\n",
    "        video_inf = []  # 用来储存每个番剧的信息\n",
    "        video_inf.extend(video['stat']['aid'])  # av号\n",
    "        video_inf.extend(video[\"title\"])  # 标题\n",
    "        video_inf.extend(video['owner'][\"name\"])  # 上传者\n",
    "        video_inf.extend(time.ctime(video['pubdate']))  # 上传时间\n",
    "\n",
    "        video_inf.extend(video['stat']['view'])  # 观看人数\n",
    "        video_inf.extend(video['stat']['danmaku'])  # 弹幕数\n",
    "        video_inf.extend(video['stat']['reply'])  # 评论数量\n",
    "        video_inf.extend(video['stat']['favorite'])  # 收藏数量\n",
    "        video_inf.extend(video['stat']['coin'])  # 投币数\n",
    "        video_inf.extend(video['stat']['share'])  # 分享数\n",
    "        video_inf.extend(video['stat']['like'])  # 点喜欢的人数\n",
    "        video_inf.extend(video['stat']['dislike'])  # 点不喜欢的人数\n",
    "        video_inf.extend(video['stat'][\"now_rank\"])  # 排名\n",
    "        video_inf.extend(video['stat'][\"his_rank\"])  # 排名\n",
    "\n",
    "        video_inf.extend(video['tname'])  # 标签\n",
    "        video_inf.extend(video['desc'])  # 描述\n",
    "\n",
    "        videos_list.append(video_inf)\n",
    "    return videos_list\n",
    "\n",
    "\n",
    "def get_all_data(n):\n",
    "    \"\"\"\n",
    "    n 为页数，从第一页爬到第 n 页\n",
    "    返回的是一个 DataFrame\n",
    "    \"\"\"\n",
    "    # 数据对应的列名\n",
    "    col = ['av号', '标题', 'up主', '上传日期', '观看次数', '弹幕', 'reply',\n",
    "           '收藏', '投币', '分享', '喜欢', '不喜欢', '现在排名', '他的排名', '标签', '描述']\n",
    "    # 建立 DataFrame 来储存数据\n",
    "    data = pd.DataFrame(columns=col)\n",
    "\n",
    "    # 循环页数\n",
    "    for i in range(1, n + 1):\n",
    "        data_temp = pd.DataFrame(\n",
    "            get_data(base_url, i), columns=col)  # 对应页的数据，临时储存\n",
    "        data = pd.concat([data, data_temp], axis=0,\n",
    "                         ignore_index=True)  # 与之前的数据合并在一块\n",
    "        # 适当的停顿，防止请求过快，封ip\n",
    "        time.sleep(np.random.rand() * np.random.randint(1, 3))\n",
    "    return data"
   ]
  },
  {
   "cell_type": "code",
   "execution_count": null,
   "metadata": {
    "collapsed": true
   },
   "outputs": [],
   "source": [
    "# 番剧对应的 url,通过chorme的 inspect 查找得到\n",
    "base_url = \"https://api.bilibili.com/x/web-interface/newlist?callback=jqueryCallback_bili_4431985766884974&rid=33&type=0&pn={}&ps=20&jsonp=jsonp&_=1558156016281\"\n",
    "# 一些的请求头，伪装成浏览器，可以防止一些反爬虫的机制\n",
    "header = {\"Referer\": \"https://www.bilibili.com/v/anime/serial/?spm_id_from=333.334.b_7072696d6172795f6d656e75.8\",\n",
    "          \"User-Agent\": \"Mozilla/5.0 (Macintosh; Intel Mac OS X 10_14_4) AppleWebKit/537.36 (KHTML, like Gecko) Chrome/73.0.3683.103 Safari/537.36\"}"
   ]
  },
  {
   "cell_type": "code",
   "execution_count": null,
   "metadata": {
    "scrolled": true
   },
   "outputs": [],
   "source": [
    "data = get_all_data(157)  # 获取1327页的视频数据,页数为网页直接查看获得\n",
    "# data.to_csv('bilibili_anime_data.csv') # 保存数据，因没有设置index=False, 导致后面读取数据时 多了一列-_-"
   ]
  },
  {
   "cell_type": "code",
   "execution_count": null,
   "metadata": {
    "collapsed": true
   },
   "outputs": [],
   "source": [
    "# 数据清洗"
   ]
  },
  {
   "cell_type": "code",
   "execution_count": null,
   "metadata": {
    "collapsed": true
   },
   "outputs": [],
   "source": [
    "# 首先查看下数据是否有 nan 值\n",
    "data = pd.read_csv('bilibili_anime_data.csv')\n",
    "data.isnull().sum("
   ]
  },
  {
   "cell_type": "code",
   "execution_count": null,
   "metadata": {
    "collapsed": true
   },
   "outputs": [],
   "source": [
    "# 因为描述不重要，所以只查看up主是 nan 的那一行\n",
    "data[data.isnull()['up主']]"
   ]
  },
  {
   "cell_type": "code",
   "execution_count": null,
   "metadata": {
    "collapsed": true
   },
   "outputs": [],
   "source": [
    "# 去掉这一行\n",
    "data.drop(26397, inplace=True)"
   ]
  },
  {
   "cell_type": "code",
   "execution_count": null,
   "metadata": {
    "collapsed": true
   },
   "outputs": [],
   "source": [
    "# 再次确认缺失值\n",
    "data.isnull().sum()"
   ]
  },
  {
   "cell_type": "code",
   "execution_count": null,
   "metadata": {
    "collapsed": true
   },
   "outputs": [],
   "source": [
    "# 查看数据有没有重复项\n",
    "data.duplicated().sum()"
   ]
  },
  {
   "cell_type": "code",
   "execution_count": null,
   "metadata": {
    "collapsed": true
   },
   "outputs": [],
   "source": [
    "# 确认下最小值\n",
    "data.min()"
   ]
  },
  {
   "cell_type": "code",
   "execution_count": null,
   "metadata": {
    "collapsed": true
   },
   "outputs": [],
   "source": [
    "# 将上传时间 转换成 datetime 类型\n",
    "data['上传日期'] = pd.to_datetime(data['上传日期'])"
   ]
  },
  {
   "cell_type": "code",
   "execution_count": null,
   "metadata": {
    "collapsed": true
   },
   "outputs": [],
   "source": [
    "# 查看观看次数是-1的番剧是哪些\n",
    "data[-1 == data['观看次数']]"
   ]
  },
  {
   "cell_type": "code",
   "execution_count": null,
   "metadata": {
    "collapsed": true
   },
   "outputs": [],
   "source": [
    "data.drop(data[-1 == data['观看次数']].index, inplace=True)"
   ]
  },
  {
   "cell_type": "code",
   "execution_count": null,
   "metadata": {
    "collapsed": true
   },
   "outputs": [],
   "source": [
    "# 再次确认一下\n",
    "data.min()"
   ]
  },
  {
   "cell_type": "code",
   "execution_count": null,
   "metadata": {
    "collapsed": true
   },
   "outputs": [],
   "source": [
    "# 因为保存的时候，没有将 index 设置为 False, 所以多了个一列,现在删除这一列\n",
    "data.drop(\"Unnamed: 0\", axis=1, inplace=True)"
   ]
  },
  {
   "cell_type": "code",
   "execution_count": null,
   "metadata": {
    "collapsed": true
   },
   "outputs": [],
   "source": [
    "# 数据分析"
   ]
  },
  {
   "cell_type": "code",
   "execution_count": null,
   "metadata": {
    "collapsed": true
   },
   "outputs": [],
   "source": [
    "# 查看一下统计\n",
    "data.describe()"
   ]
  },
  {
   "cell_type": "code",
   "execution_count": null,
   "metadata": {
    "collapsed": true
   },
   "outputs": [],
   "source": [
    "# 看一下各数据的相关性\n",
    "data.corr()"
   ]
  },
  {
   "cell_type": "code",
   "execution_count": null,
   "metadata": {
    "collapsed": true
   },
   "outputs": [],
   "source": [
    "\n",
    "# 查看up主投稿的数量\n",
    "data.groupby(\"up主\").count().sort_values(\"av号\", ascending=False)  # 根据up主投稿的数量排序"
   ]
  },
  {
   "cell_type": "code",
   "execution_count": null,
   "metadata": {
    "collapsed": true
   },
   "outputs": [],
   "source": [
    "data.sort_values(\"收藏\", ascending=False).reset_index(drop=True)  # 收藏数量排序"
   ]
  },
  {
   "cell_type": "code",
   "execution_count": null,
   "metadata": {
    "collapsed": true
   },
   "outputs": [],
   "source": [
    "data.sort_values(\"观看次数\", ascending=False).reset_index(drop=True)"
   ]
  }
 ],
 "metadata": {
  "kernelspec": {
   "display_name": "Python 3",
   "language": "python",
   "name": "python3"
  },
  "language_info": {
   "codemirror_mode": {
    "name": "ipython",
    "version": 3
   },
   "file_extension": ".py",
   "mimetype": "text/x-python",
   "name": "python",
   "nbconvert_exporter": "python",
   "pygments_lexer": "ipython3",
   "version": "3.6.3"
  }
 },
 "nbformat": 4,
 "nbformat_minor": 2
}
